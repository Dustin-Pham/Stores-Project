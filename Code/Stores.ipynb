{
 "cells": [
  {
   "cell_type": "code",
   "execution_count": 1,
   "id": "20b9a722",
   "metadata": {},
   "outputs": [],
   "source": [
    "import pandas as pd\n",
    "import numpy as np"
   ]
  },
  {
   "cell_type": "code",
   "execution_count": 2,
   "id": "6de978ec",
   "metadata": {},
   "outputs": [
    {
     "name": "stdout",
     "output_type": "stream",
     "text": [
      "C:\\Users\\dusti\\Programming\\Python\\Project 1\n"
     ]
    }
   ],
   "source": [
    "import os\n",
    "wd = os.getcwd()\n",
    "print (wd)"
   ]
  },
  {
   "cell_type": "code",
   "execution_count": 3,
   "id": "91c03176",
   "metadata": {},
   "outputs": [
    {
     "name": "stdout",
     "output_type": "stream",
     "text": [
      "C:\\Users\\dusti\\Programming\\Python\\Project 1\\data\\Stores.csv\n"
     ]
    }
   ],
   "source": [
    "data = wd + '\\data\\Stores.csv'\n",
    "print (data)"
   ]
  },
  {
   "cell_type": "code",
   "execution_count": 4,
   "id": "de000773",
   "metadata": {},
   "outputs": [],
   "source": [
    "df = pd.read_csv(data)"
   ]
  },
  {
   "cell_type": "code",
   "execution_count": 5,
   "id": "6e634145",
   "metadata": {},
   "outputs": [
    {
     "data": {
      "text/html": [
       "<div>\n",
       "<style scoped>\n",
       "    .dataframe tbody tr th:only-of-type {\n",
       "        vertical-align: middle;\n",
       "    }\n",
       "\n",
       "    .dataframe tbody tr th {\n",
       "        vertical-align: top;\n",
       "    }\n",
       "\n",
       "    .dataframe thead th {\n",
       "        text-align: right;\n",
       "    }\n",
       "</style>\n",
       "<table border=\"1\" class=\"dataframe\">\n",
       "  <thead>\n",
       "    <tr style=\"text-align: right;\">\n",
       "      <th></th>\n",
       "      <th>Store ID</th>\n",
       "      <th>Store_Area</th>\n",
       "      <th>Items_Available</th>\n",
       "      <th>Daily_Customer_Count</th>\n",
       "      <th>Store_Sales</th>\n",
       "    </tr>\n",
       "  </thead>\n",
       "  <tbody>\n",
       "    <tr>\n",
       "      <th>0</th>\n",
       "      <td>1</td>\n",
       "      <td>1659</td>\n",
       "      <td>1961</td>\n",
       "      <td>530</td>\n",
       "      <td>66490</td>\n",
       "    </tr>\n",
       "    <tr>\n",
       "      <th>1</th>\n",
       "      <td>2</td>\n",
       "      <td>1461</td>\n",
       "      <td>1752</td>\n",
       "      <td>210</td>\n",
       "      <td>39820</td>\n",
       "    </tr>\n",
       "    <tr>\n",
       "      <th>2</th>\n",
       "      <td>3</td>\n",
       "      <td>1340</td>\n",
       "      <td>1609</td>\n",
       "      <td>720</td>\n",
       "      <td>54010</td>\n",
       "    </tr>\n",
       "    <tr>\n",
       "      <th>3</th>\n",
       "      <td>4</td>\n",
       "      <td>1451</td>\n",
       "      <td>1748</td>\n",
       "      <td>620</td>\n",
       "      <td>53730</td>\n",
       "    </tr>\n",
       "    <tr>\n",
       "      <th>4</th>\n",
       "      <td>5</td>\n",
       "      <td>1770</td>\n",
       "      <td>2111</td>\n",
       "      <td>450</td>\n",
       "      <td>46620</td>\n",
       "    </tr>\n",
       "  </tbody>\n",
       "</table>\n",
       "</div>"
      ],
      "text/plain": [
       "   Store ID   Store_Area  Items_Available  Daily_Customer_Count  Store_Sales\n",
       "0          1        1659             1961                   530        66490\n",
       "1          2        1461             1752                   210        39820\n",
       "2          3        1340             1609                   720        54010\n",
       "3          4        1451             1748                   620        53730\n",
       "4          5        1770             2111                   450        46620"
      ]
     },
     "execution_count": 5,
     "metadata": {},
     "output_type": "execute_result"
    }
   ],
   "source": [
    "df.head(5)"
   ]
  },
  {
   "cell_type": "code",
   "execution_count": 6,
   "id": "30d5da10",
   "metadata": {},
   "outputs": [
    {
     "name": "stdout",
     "output_type": "stream",
     "text": [
      "     Store ID   Store_Area  Items_Available  Daily_Customer_Count  Store_Sales\n",
      "0            1        1659             1961                   530        66490\n",
      "1            2        1461             1752                   210        39820\n",
      "2            3        1340             1609                   720        54010\n",
      "3            4        1451             1748                   620        53730\n",
      "4            5        1770             2111                   450        46620\n",
      "..         ...         ...              ...                   ...          ...\n",
      "891        892        1582             1910                  1080        66390\n",
      "892        893        1387             1663                   850        82080\n",
      "893        894        1200             1436                  1060        76440\n",
      "894        895        1299             1560                   770        96610\n",
      "895        896        1174             1429                  1110        54340\n",
      "\n",
      "[896 rows x 5 columns]\n"
     ]
    }
   ],
   "source": [
    "print(df)"
   ]
  },
  {
   "cell_type": "code",
   "execution_count": 7,
   "id": "823a206c",
   "metadata": {},
   "outputs": [
    {
     "data": {
      "text/html": [
       "<div>\n",
       "<style scoped>\n",
       "    .dataframe tbody tr th:only-of-type {\n",
       "        vertical-align: middle;\n",
       "    }\n",
       "\n",
       "    .dataframe tbody tr th {\n",
       "        vertical-align: top;\n",
       "    }\n",
       "\n",
       "    .dataframe thead th {\n",
       "        text-align: right;\n",
       "    }\n",
       "</style>\n",
       "<table border=\"1\" class=\"dataframe\">\n",
       "  <thead>\n",
       "    <tr style=\"text-align: right;\">\n",
       "      <th></th>\n",
       "      <th>Store ID</th>\n",
       "      <th>Store_Area</th>\n",
       "      <th>Items_Available</th>\n",
       "      <th>Daily_Customer_Count</th>\n",
       "      <th>Store_Sales</th>\n",
       "    </tr>\n",
       "  </thead>\n",
       "  <tbody>\n",
       "    <tr>\n",
       "      <th>count</th>\n",
       "      <td>896.000000</td>\n",
       "      <td>896.000000</td>\n",
       "      <td>896.000000</td>\n",
       "      <td>896.000000</td>\n",
       "      <td>896.000000</td>\n",
       "    </tr>\n",
       "    <tr>\n",
       "      <th>mean</th>\n",
       "      <td>448.500000</td>\n",
       "      <td>1485.409598</td>\n",
       "      <td>1782.035714</td>\n",
       "      <td>786.350446</td>\n",
       "      <td>59351.305804</td>\n",
       "    </tr>\n",
       "    <tr>\n",
       "      <th>std</th>\n",
       "      <td>258.797218</td>\n",
       "      <td>250.237011</td>\n",
       "      <td>299.872053</td>\n",
       "      <td>265.389281</td>\n",
       "      <td>17190.741895</td>\n",
       "    </tr>\n",
       "    <tr>\n",
       "      <th>min</th>\n",
       "      <td>1.000000</td>\n",
       "      <td>775.000000</td>\n",
       "      <td>932.000000</td>\n",
       "      <td>10.000000</td>\n",
       "      <td>14920.000000</td>\n",
       "    </tr>\n",
       "    <tr>\n",
       "      <th>25%</th>\n",
       "      <td>224.750000</td>\n",
       "      <td>1316.750000</td>\n",
       "      <td>1575.500000</td>\n",
       "      <td>600.000000</td>\n",
       "      <td>46530.000000</td>\n",
       "    </tr>\n",
       "    <tr>\n",
       "      <th>50%</th>\n",
       "      <td>448.500000</td>\n",
       "      <td>1477.000000</td>\n",
       "      <td>1773.500000</td>\n",
       "      <td>780.000000</td>\n",
       "      <td>58605.000000</td>\n",
       "    </tr>\n",
       "    <tr>\n",
       "      <th>75%</th>\n",
       "      <td>672.250000</td>\n",
       "      <td>1653.500000</td>\n",
       "      <td>1982.750000</td>\n",
       "      <td>970.000000</td>\n",
       "      <td>71872.500000</td>\n",
       "    </tr>\n",
       "    <tr>\n",
       "      <th>max</th>\n",
       "      <td>896.000000</td>\n",
       "      <td>2229.000000</td>\n",
       "      <td>2667.000000</td>\n",
       "      <td>1560.000000</td>\n",
       "      <td>116320.000000</td>\n",
       "    </tr>\n",
       "  </tbody>\n",
       "</table>\n",
       "</div>"
      ],
      "text/plain": [
       "        Store ID    Store_Area  Items_Available  Daily_Customer_Count  \\\n",
       "count  896.000000   896.000000       896.000000            896.000000   \n",
       "mean   448.500000  1485.409598      1782.035714            786.350446   \n",
       "std    258.797218   250.237011       299.872053            265.389281   \n",
       "min      1.000000   775.000000       932.000000             10.000000   \n",
       "25%    224.750000  1316.750000      1575.500000            600.000000   \n",
       "50%    448.500000  1477.000000      1773.500000            780.000000   \n",
       "75%    672.250000  1653.500000      1982.750000            970.000000   \n",
       "max    896.000000  2229.000000      2667.000000           1560.000000   \n",
       "\n",
       "         Store_Sales  \n",
       "count     896.000000  \n",
       "mean    59351.305804  \n",
       "std     17190.741895  \n",
       "min     14920.000000  \n",
       "25%     46530.000000  \n",
       "50%     58605.000000  \n",
       "75%     71872.500000  \n",
       "max    116320.000000  "
      ]
     },
     "execution_count": 7,
     "metadata": {},
     "output_type": "execute_result"
    }
   ],
   "source": [
    "df.describe()"
   ]
  },
  {
   "cell_type": "code",
   "execution_count": 8,
   "id": "d6f76fb2",
   "metadata": {},
   "outputs": [],
   "source": [
    "describe = df.describe()"
   ]
  },
  {
   "cell_type": "code",
   "execution_count": 9,
   "id": "ae4e8896",
   "metadata": {},
   "outputs": [],
   "source": [
    "describe.to_csv('New_describe.csv')"
   ]
  },
  {
   "cell_type": "code",
   "execution_count": 10,
   "id": "01f3ce11",
   "metadata": {},
   "outputs": [
    {
     "data": {
      "text/html": [
       "<div>\n",
       "<style scoped>\n",
       "    .dataframe tbody tr th:only-of-type {\n",
       "        vertical-align: middle;\n",
       "    }\n",
       "\n",
       "    .dataframe tbody tr th {\n",
       "        vertical-align: top;\n",
       "    }\n",
       "\n",
       "    .dataframe thead th {\n",
       "        text-align: right;\n",
       "    }\n",
       "</style>\n",
       "<table border=\"1\" class=\"dataframe\">\n",
       "  <thead>\n",
       "    <tr style=\"text-align: right;\">\n",
       "      <th></th>\n",
       "      <th>Store ID</th>\n",
       "      <th>Store_Area</th>\n",
       "      <th>Items_Available</th>\n",
       "      <th>Daily_Customer_Count</th>\n",
       "      <th>Store_Sales</th>\n",
       "    </tr>\n",
       "  </thead>\n",
       "  <tbody>\n",
       "    <tr>\n",
       "      <th>0</th>\n",
       "      <td>1</td>\n",
       "      <td>1659</td>\n",
       "      <td>1961</td>\n",
       "      <td>530</td>\n",
       "      <td>66490</td>\n",
       "    </tr>\n",
       "    <tr>\n",
       "      <th>4</th>\n",
       "      <td>5</td>\n",
       "      <td>1770</td>\n",
       "      <td>2111</td>\n",
       "      <td>450</td>\n",
       "      <td>46620</td>\n",
       "    </tr>\n",
       "    <tr>\n",
       "      <th>11</th>\n",
       "      <td>12</td>\n",
       "      <td>1751</td>\n",
       "      <td>2098</td>\n",
       "      <td>720</td>\n",
       "      <td>57620</td>\n",
       "    </tr>\n",
       "    <tr>\n",
       "      <th>12</th>\n",
       "      <td>13</td>\n",
       "      <td>1746</td>\n",
       "      <td>2064</td>\n",
       "      <td>1050</td>\n",
       "      <td>60470</td>\n",
       "    </tr>\n",
       "    <tr>\n",
       "      <th>13</th>\n",
       "      <td>14</td>\n",
       "      <td>1615</td>\n",
       "      <td>1931</td>\n",
       "      <td>1160</td>\n",
       "      <td>59130</td>\n",
       "    </tr>\n",
       "    <tr>\n",
       "      <th>...</th>\n",
       "      <td>...</td>\n",
       "      <td>...</td>\n",
       "      <td>...</td>\n",
       "      <td>...</td>\n",
       "      <td>...</td>\n",
       "    </tr>\n",
       "    <tr>\n",
       "      <th>875</th>\n",
       "      <td>876</td>\n",
       "      <td>1691</td>\n",
       "      <td>2023</td>\n",
       "      <td>540</td>\n",
       "      <td>60270</td>\n",
       "    </tr>\n",
       "    <tr>\n",
       "      <th>877</th>\n",
       "      <td>878</td>\n",
       "      <td>1771</td>\n",
       "      <td>2138</td>\n",
       "      <td>820</td>\n",
       "      <td>57820</td>\n",
       "    </tr>\n",
       "    <tr>\n",
       "      <th>879</th>\n",
       "      <td>880</td>\n",
       "      <td>1792</td>\n",
       "      <td>2131</td>\n",
       "      <td>810</td>\n",
       "      <td>76420</td>\n",
       "    </tr>\n",
       "    <tr>\n",
       "      <th>882</th>\n",
       "      <td>883</td>\n",
       "      <td>1819</td>\n",
       "      <td>2187</td>\n",
       "      <td>590</td>\n",
       "      <td>47920</td>\n",
       "    </tr>\n",
       "    <tr>\n",
       "      <th>886</th>\n",
       "      <td>887</td>\n",
       "      <td>1655</td>\n",
       "      <td>1986</td>\n",
       "      <td>1150</td>\n",
       "      <td>77430</td>\n",
       "    </tr>\n",
       "  </tbody>\n",
       "</table>\n",
       "<p>290 rows × 5 columns</p>\n",
       "</div>"
      ],
      "text/plain": [
       "     Store ID   Store_Area  Items_Available  Daily_Customer_Count  Store_Sales\n",
       "0            1        1659             1961                   530        66490\n",
       "4            5        1770             2111                   450        46620\n",
       "11          12        1751             2098                   720        57620\n",
       "12          13        1746             2064                  1050        60470\n",
       "13          14        1615             1931                  1160        59130\n",
       "..         ...         ...              ...                   ...          ...\n",
       "875        876        1691             2023                   540        60270\n",
       "877        878        1771             2138                   820        57820\n",
       "879        880        1792             2131                   810        76420\n",
       "882        883        1819             2187                   590        47920\n",
       "886        887        1655             1986                  1150        77430\n",
       "\n",
       "[290 rows x 5 columns]"
      ]
     },
     "execution_count": 10,
     "metadata": {},
     "output_type": "execute_result"
    }
   ],
   "source": [
    "df.loc[df['Store_Area'] >= 1600]"
   ]
  },
  {
   "cell_type": "code",
   "execution_count": 11,
   "id": "e18ea9ab",
   "metadata": {},
   "outputs": [],
   "source": [
    "New_Store_Area = df.loc[df['Store_Area'] >= 1600]"
   ]
  },
  {
   "cell_type": "code",
   "execution_count": 12,
   "id": "6171aa35",
   "metadata": {},
   "outputs": [
    {
     "data": {
      "text/html": [
       "<div>\n",
       "<style scoped>\n",
       "    .dataframe tbody tr th:only-of-type {\n",
       "        vertical-align: middle;\n",
       "    }\n",
       "\n",
       "    .dataframe tbody tr th {\n",
       "        vertical-align: top;\n",
       "    }\n",
       "\n",
       "    .dataframe thead th {\n",
       "        text-align: right;\n",
       "    }\n",
       "</style>\n",
       "<table border=\"1\" class=\"dataframe\">\n",
       "  <thead>\n",
       "    <tr style=\"text-align: right;\">\n",
       "      <th></th>\n",
       "      <th>Store ID</th>\n",
       "      <th>Store_Area</th>\n",
       "      <th>Items_Available</th>\n",
       "      <th>Daily_Customer_Count</th>\n",
       "      <th>Store_Sales</th>\n",
       "    </tr>\n",
       "  </thead>\n",
       "  <tbody>\n",
       "    <tr>\n",
       "      <th>537</th>\n",
       "      <td>538</td>\n",
       "      <td>1601</td>\n",
       "      <td>1920</td>\n",
       "      <td>600</td>\n",
       "      <td>61000</td>\n",
       "    </tr>\n",
       "    <tr>\n",
       "      <th>215</th>\n",
       "      <td>216</td>\n",
       "      <td>1604</td>\n",
       "      <td>1909</td>\n",
       "      <td>370</td>\n",
       "      <td>33730</td>\n",
       "    </tr>\n",
       "    <tr>\n",
       "      <th>254</th>\n",
       "      <td>255</td>\n",
       "      <td>1604</td>\n",
       "      <td>1925</td>\n",
       "      <td>670</td>\n",
       "      <td>54370</td>\n",
       "    </tr>\n",
       "    <tr>\n",
       "      <th>177</th>\n",
       "      <td>178</td>\n",
       "      <td>1605</td>\n",
       "      <td>1902</td>\n",
       "      <td>390</td>\n",
       "      <td>73120</td>\n",
       "    </tr>\n",
       "    <tr>\n",
       "      <th>653</th>\n",
       "      <td>654</td>\n",
       "      <td>1607</td>\n",
       "      <td>1933</td>\n",
       "      <td>930</td>\n",
       "      <td>81260</td>\n",
       "    </tr>\n",
       "    <tr>\n",
       "      <th>...</th>\n",
       "      <td>...</td>\n",
       "      <td>...</td>\n",
       "      <td>...</td>\n",
       "      <td>...</td>\n",
       "      <td>...</td>\n",
       "    </tr>\n",
       "    <tr>\n",
       "      <th>398</th>\n",
       "      <td>399</td>\n",
       "      <td>2063</td>\n",
       "      <td>2493</td>\n",
       "      <td>810</td>\n",
       "      <td>51480</td>\n",
       "    </tr>\n",
       "    <tr>\n",
       "      <th>849</th>\n",
       "      <td>850</td>\n",
       "      <td>2067</td>\n",
       "      <td>2492</td>\n",
       "      <td>790</td>\n",
       "      <td>70230</td>\n",
       "    </tr>\n",
       "    <tr>\n",
       "      <th>91</th>\n",
       "      <td>92</td>\n",
       "      <td>2169</td>\n",
       "      <td>2617</td>\n",
       "      <td>600</td>\n",
       "      <td>67080</td>\n",
       "    </tr>\n",
       "    <tr>\n",
       "      <th>540</th>\n",
       "      <td>541</td>\n",
       "      <td>2214</td>\n",
       "      <td>2647</td>\n",
       "      <td>740</td>\n",
       "      <td>65900</td>\n",
       "    </tr>\n",
       "    <tr>\n",
       "      <th>466</th>\n",
       "      <td>467</td>\n",
       "      <td>2229</td>\n",
       "      <td>2667</td>\n",
       "      <td>660</td>\n",
       "      <td>87410</td>\n",
       "    </tr>\n",
       "  </tbody>\n",
       "</table>\n",
       "<p>290 rows × 5 columns</p>\n",
       "</div>"
      ],
      "text/plain": [
       "     Store ID   Store_Area  Items_Available  Daily_Customer_Count  Store_Sales\n",
       "537        538        1601             1920                   600        61000\n",
       "215        216        1604             1909                   370        33730\n",
       "254        255        1604             1925                   670        54370\n",
       "177        178        1605             1902                   390        73120\n",
       "653        654        1607             1933                   930        81260\n",
       "..         ...         ...              ...                   ...          ...\n",
       "398        399        2063             2493                   810        51480\n",
       "849        850        2067             2492                   790        70230\n",
       "91          92        2169             2617                   600        67080\n",
       "540        541        2214             2647                   740        65900\n",
       "466        467        2229             2667                   660        87410\n",
       "\n",
       "[290 rows x 5 columns]"
      ]
     },
     "execution_count": 12,
     "metadata": {},
     "output_type": "execute_result"
    }
   ],
   "source": [
    "New_Store_Area.sort_values('Store_Area')"
   ]
  },
  {
   "cell_type": "code",
   "execution_count": 13,
   "id": "8f6c40f6",
   "metadata": {},
   "outputs": [],
   "source": [
    "New_Store_Area_Values = New_Store_Area.sort_values('Store_Area')"
   ]
  },
  {
   "cell_type": "code",
   "execution_count": 14,
   "id": "8c25fef6",
   "metadata": {},
   "outputs": [],
   "source": [
    "New_Store_Area_Values.to_csv('New_Store_Area.csv')"
   ]
  },
  {
   "cell_type": "code",
   "execution_count": 15,
   "id": "e850772c",
   "metadata": {},
   "outputs": [],
   "source": [
    "New_Store_Area_Values_Describe = New_Store_Area_Values.describe()"
   ]
  },
  {
   "cell_type": "code",
   "execution_count": 16,
   "id": "803fb7b7",
   "metadata": {},
   "outputs": [
    {
     "data": {
      "text/html": [
       "<div>\n",
       "<style scoped>\n",
       "    .dataframe tbody tr th:only-of-type {\n",
       "        vertical-align: middle;\n",
       "    }\n",
       "\n",
       "    .dataframe tbody tr th {\n",
       "        vertical-align: top;\n",
       "    }\n",
       "\n",
       "    .dataframe thead th {\n",
       "        text-align: right;\n",
       "    }\n",
       "</style>\n",
       "<table border=\"1\" class=\"dataframe\">\n",
       "  <thead>\n",
       "    <tr style=\"text-align: right;\">\n",
       "      <th></th>\n",
       "      <th>Store ID</th>\n",
       "      <th>Store_Area</th>\n",
       "      <th>Items_Available</th>\n",
       "      <th>Daily_Customer_Count</th>\n",
       "      <th>Store_Sales</th>\n",
       "    </tr>\n",
       "  </thead>\n",
       "  <tbody>\n",
       "    <tr>\n",
       "      <th>count</th>\n",
       "      <td>290.000000</td>\n",
       "      <td>290.000000</td>\n",
       "      <td>290.000000</td>\n",
       "      <td>290.000000</td>\n",
       "      <td>290.000000</td>\n",
       "    </tr>\n",
       "    <tr>\n",
       "      <th>mean</th>\n",
       "      <td>424.531034</td>\n",
       "      <td>1768.000000</td>\n",
       "      <td>2120.258621</td>\n",
       "      <td>773.620690</td>\n",
       "      <td>61208.827586</td>\n",
       "    </tr>\n",
       "    <tr>\n",
       "      <th>std</th>\n",
       "      <td>259.278145</td>\n",
       "      <td>127.038642</td>\n",
       "      <td>153.343651</td>\n",
       "      <td>268.759152</td>\n",
       "      <td>17031.860537</td>\n",
       "    </tr>\n",
       "    <tr>\n",
       "      <th>min</th>\n",
       "      <td>1.000000</td>\n",
       "      <td>1601.000000</td>\n",
       "      <td>1893.000000</td>\n",
       "      <td>70.000000</td>\n",
       "      <td>20270.000000</td>\n",
       "    </tr>\n",
       "    <tr>\n",
       "      <th>25%</th>\n",
       "      <td>190.500000</td>\n",
       "      <td>1659.000000</td>\n",
       "      <td>1999.000000</td>\n",
       "      <td>580.000000</td>\n",
       "      <td>48015.000000</td>\n",
       "    </tr>\n",
       "    <tr>\n",
       "      <th>50%</th>\n",
       "      <td>429.500000</td>\n",
       "      <td>1751.000000</td>\n",
       "      <td>2097.500000</td>\n",
       "      <td>765.000000</td>\n",
       "      <td>61000.000000</td>\n",
       "    </tr>\n",
       "    <tr>\n",
       "      <th>75%</th>\n",
       "      <td>643.500000</td>\n",
       "      <td>1853.750000</td>\n",
       "      <td>2225.750000</td>\n",
       "      <td>950.000000</td>\n",
       "      <td>74310.000000</td>\n",
       "    </tr>\n",
       "    <tr>\n",
       "      <th>max</th>\n",
       "      <td>887.000000</td>\n",
       "      <td>2229.000000</td>\n",
       "      <td>2667.000000</td>\n",
       "      <td>1530.000000</td>\n",
       "      <td>116320.000000</td>\n",
       "    </tr>\n",
       "  </tbody>\n",
       "</table>\n",
       "</div>"
      ],
      "text/plain": [
       "        Store ID    Store_Area  Items_Available  Daily_Customer_Count  \\\n",
       "count  290.000000   290.000000       290.000000            290.000000   \n",
       "mean   424.531034  1768.000000      2120.258621            773.620690   \n",
       "std    259.278145   127.038642       153.343651            268.759152   \n",
       "min      1.000000  1601.000000      1893.000000             70.000000   \n",
       "25%    190.500000  1659.000000      1999.000000            580.000000   \n",
       "50%    429.500000  1751.000000      2097.500000            765.000000   \n",
       "75%    643.500000  1853.750000      2225.750000            950.000000   \n",
       "max    887.000000  2229.000000      2667.000000           1530.000000   \n",
       "\n",
       "         Store_Sales  \n",
       "count     290.000000  \n",
       "mean    61208.827586  \n",
       "std     17031.860537  \n",
       "min     20270.000000  \n",
       "25%     48015.000000  \n",
       "50%     61000.000000  \n",
       "75%     74310.000000  \n",
       "max    116320.000000  "
      ]
     },
     "execution_count": 16,
     "metadata": {},
     "output_type": "execute_result"
    }
   ],
   "source": [
    "New_Store_Area_Values.describe()"
   ]
  },
  {
   "cell_type": "code",
   "execution_count": 17,
   "id": "7edec22d",
   "metadata": {},
   "outputs": [],
   "source": [
    "New_Store_Area_Values_Describe.to_csv('New_Store_Area_Values_Describe')"
   ]
  },
  {
   "cell_type": "code",
   "execution_count": 18,
   "id": "ba3d462a",
   "metadata": {},
   "outputs": [
    {
     "name": "stdout",
     "output_type": "stream",
     "text": [
      "     Store ID   Store_Area  Items_Available  Daily_Customer_Count  Store_Sales\n",
      "0            1        1659             1961                   530        66490\n",
      "1            2        1461             1752                   210        39820\n",
      "2            3        1340             1609                   720        54010\n",
      "3            4        1451             1748                   620        53730\n",
      "4            5        1770             2111                   450        46620\n",
      "..         ...         ...              ...                   ...          ...\n",
      "891        892        1582             1910                  1080        66390\n",
      "892        893        1387             1663                   850        82080\n",
      "893        894        1200             1436                  1060        76440\n",
      "894        895        1299             1560                   770        96610\n",
      "895        896        1174             1429                  1110        54340\n",
      "\n",
      "[896 rows x 5 columns]\n"
     ]
    }
   ],
   "source": [
    "print(df)"
   ]
  },
  {
   "cell_type": "code",
   "execution_count": 19,
   "id": "54a48b06",
   "metadata": {},
   "outputs": [],
   "source": [
    "New_Daily_Customer_Count = df.loc[df['Daily_Customer_Count'] >= 800]"
   ]
  },
  {
   "cell_type": "code",
   "execution_count": 20,
   "id": "ffbc9f2f",
   "metadata": {},
   "outputs": [
    {
     "name": "stdout",
     "output_type": "stream",
     "text": [
      "     Store ID   Store_Area  Items_Available  Daily_Customer_Count  Store_Sales\n",
      "6            7        1542             1858                  1030        72240\n",
      "7            8        1261             1507                  1020        37720\n",
      "9           10        1030             1235                  1130        44150\n",
      "10          11        1187             1439                  1090        71280\n",
      "12          13        1746             2064                  1050        60470\n",
      "..         ...         ...              ...                   ...          ...\n",
      "890        891        1549             1851                  1220        70620\n",
      "891        892        1582             1910                  1080        66390\n",
      "892        893        1387             1663                   850        82080\n",
      "893        894        1200             1436                  1060        76440\n",
      "895        896        1174             1429                  1110        54340\n",
      "\n",
      "[425 rows x 5 columns]\n"
     ]
    }
   ],
   "source": [
    "print(New_Daily_Customer_Count)"
   ]
  },
  {
   "cell_type": "code",
   "execution_count": 21,
   "id": "da3b04bf",
   "metadata": {},
   "outputs": [],
   "source": [
    "New_Daily_Customer_Count_Values = New_Daily_Customer_Count.sort_values('Daily_Customer_Count')"
   ]
  },
  {
   "cell_type": "code",
   "execution_count": 22,
   "id": "920371e8",
   "metadata": {},
   "outputs": [],
   "source": [
    "New_Daily_Customer_Count_Values.to_csv('New_Daily_Customer_Count.csv')"
   ]
  },
  {
   "cell_type": "code",
   "execution_count": 23,
   "id": "f87f6da8",
   "metadata": {},
   "outputs": [
    {
     "data": {
      "text/html": [
       "<div>\n",
       "<style scoped>\n",
       "    .dataframe tbody tr th:only-of-type {\n",
       "        vertical-align: middle;\n",
       "    }\n",
       "\n",
       "    .dataframe tbody tr th {\n",
       "        vertical-align: top;\n",
       "    }\n",
       "\n",
       "    .dataframe thead th {\n",
       "        text-align: right;\n",
       "    }\n",
       "</style>\n",
       "<table border=\"1\" class=\"dataframe\">\n",
       "  <thead>\n",
       "    <tr style=\"text-align: right;\">\n",
       "      <th></th>\n",
       "      <th>Store ID</th>\n",
       "      <th>Store_Area</th>\n",
       "      <th>Items_Available</th>\n",
       "      <th>Daily_Customer_Count</th>\n",
       "      <th>Store_Sales</th>\n",
       "    </tr>\n",
       "  </thead>\n",
       "  <tbody>\n",
       "    <tr>\n",
       "      <th>count</th>\n",
       "      <td>425.000000</td>\n",
       "      <td>425.000000</td>\n",
       "      <td>425.000000</td>\n",
       "      <td>425.000000</td>\n",
       "      <td>425.000000</td>\n",
       "    </tr>\n",
       "    <tr>\n",
       "      <th>mean</th>\n",
       "      <td>446.788235</td>\n",
       "      <td>1480.228235</td>\n",
       "      <td>1776.291765</td>\n",
       "      <td>1011.788235</td>\n",
       "      <td>59506.258824</td>\n",
       "    </tr>\n",
       "    <tr>\n",
       "      <th>std</th>\n",
       "      <td>257.891939</td>\n",
       "      <td>248.047274</td>\n",
       "      <td>297.064982</td>\n",
       "      <td>158.852318</td>\n",
       "      <td>17482.440958</td>\n",
       "    </tr>\n",
       "    <tr>\n",
       "      <th>min</th>\n",
       "      <td>7.000000</td>\n",
       "      <td>775.000000</td>\n",
       "      <td>932.000000</td>\n",
       "      <td>800.000000</td>\n",
       "      <td>14920.000000</td>\n",
       "    </tr>\n",
       "    <tr>\n",
       "      <th>25%</th>\n",
       "      <td>230.000000</td>\n",
       "      <td>1309.000000</td>\n",
       "      <td>1570.000000</td>\n",
       "      <td>890.000000</td>\n",
       "      <td>47300.000000</td>\n",
       "    </tr>\n",
       "    <tr>\n",
       "      <th>50%</th>\n",
       "      <td>435.000000</td>\n",
       "      <td>1474.000000</td>\n",
       "      <td>1766.000000</td>\n",
       "      <td>980.000000</td>\n",
       "      <td>58540.000000</td>\n",
       "    </tr>\n",
       "    <tr>\n",
       "      <th>75%</th>\n",
       "      <td>663.000000</td>\n",
       "      <td>1648.000000</td>\n",
       "      <td>1985.000000</td>\n",
       "      <td>1110.000000</td>\n",
       "      <td>71280.000000</td>\n",
       "    </tr>\n",
       "    <tr>\n",
       "      <th>max</th>\n",
       "      <td>896.000000</td>\n",
       "      <td>2063.000000</td>\n",
       "      <td>2493.000000</td>\n",
       "      <td>1560.000000</td>\n",
       "      <td>116320.000000</td>\n",
       "    </tr>\n",
       "  </tbody>\n",
       "</table>\n",
       "</div>"
      ],
      "text/plain": [
       "        Store ID    Store_Area  Items_Available  Daily_Customer_Count  \\\n",
       "count  425.000000   425.000000       425.000000            425.000000   \n",
       "mean   446.788235  1480.228235      1776.291765           1011.788235   \n",
       "std    257.891939   248.047274       297.064982            158.852318   \n",
       "min      7.000000   775.000000       932.000000            800.000000   \n",
       "25%    230.000000  1309.000000      1570.000000            890.000000   \n",
       "50%    435.000000  1474.000000      1766.000000            980.000000   \n",
       "75%    663.000000  1648.000000      1985.000000           1110.000000   \n",
       "max    896.000000  2063.000000      2493.000000           1560.000000   \n",
       "\n",
       "         Store_Sales  \n",
       "count     425.000000  \n",
       "mean    59506.258824  \n",
       "std     17482.440958  \n",
       "min     14920.000000  \n",
       "25%     47300.000000  \n",
       "50%     58540.000000  \n",
       "75%     71280.000000  \n",
       "max    116320.000000  "
      ]
     },
     "execution_count": 23,
     "metadata": {},
     "output_type": "execute_result"
    }
   ],
   "source": [
    "New_Daily_Customer_Count_Values.describe()"
   ]
  },
  {
   "cell_type": "code",
   "execution_count": 24,
   "id": "b6caa97e",
   "metadata": {},
   "outputs": [],
   "source": [
    "New_Daily_Customer_Count_Values_Describe = New_Daily_Customer_Count_Values.describe()"
   ]
  },
  {
   "cell_type": "code",
   "execution_count": 25,
   "id": "bfdc42dc",
   "metadata": {},
   "outputs": [],
   "source": [
    "New_Daily_Customer_Count_Values_Describe.to_csv('New_Daily_Customer_Count_Values_Describe')"
   ]
  },
  {
   "cell_type": "code",
   "execution_count": 26,
   "id": "c35bd793",
   "metadata": {},
   "outputs": [],
   "source": [
    "New_Store_Sales = df.loc[df['Store_Sales'] >= 60000]"
   ]
  },
  {
   "cell_type": "code",
   "execution_count": 27,
   "id": "1b518bbb",
   "metadata": {},
   "outputs": [
    {
     "name": "stdout",
     "output_type": "stream",
     "text": [
      "     Store ID   Store_Area  Items_Available  Daily_Customer_Count  Store_Sales\n",
      "0            1        1659             1961                   530        66490\n",
      "6            7        1542             1858                  1030        72240\n",
      "10          11        1187             1439                  1090        71280\n",
      "12          13        1746             2064                  1050        60470\n",
      "14          15        1469             1756                   770        66360\n",
      "..         ...         ...              ...                   ...          ...\n",
      "890        891        1549             1851                  1220        70620\n",
      "891        892        1582             1910                  1080        66390\n",
      "892        893        1387             1663                   850        82080\n",
      "893        894        1200             1436                  1060        76440\n",
      "894        895        1299             1560                   770        96610\n",
      "\n",
      "[421 rows x 5 columns]\n"
     ]
    }
   ],
   "source": [
    "print (New_Store_Sales)"
   ]
  },
  {
   "cell_type": "code",
   "execution_count": 28,
   "id": "7de96bee",
   "metadata": {},
   "outputs": [],
   "source": [
    "New_Store_Sales_Values = New_Store_Sales.sort_values('Store_Sales')"
   ]
  },
  {
   "cell_type": "code",
   "execution_count": 29,
   "id": "93a14353",
   "metadata": {},
   "outputs": [],
   "source": [
    "New_Store_Sales_Values.to_csv('New_Store_Sales.csv')"
   ]
  },
  {
   "cell_type": "code",
   "execution_count": 30,
   "id": "3878aca5",
   "metadata": {},
   "outputs": [
    {
     "data": {
      "text/html": [
       "<div>\n",
       "<style scoped>\n",
       "    .dataframe tbody tr th:only-of-type {\n",
       "        vertical-align: middle;\n",
       "    }\n",
       "\n",
       "    .dataframe tbody tr th {\n",
       "        vertical-align: top;\n",
       "    }\n",
       "\n",
       "    .dataframe thead th {\n",
       "        text-align: right;\n",
       "    }\n",
       "</style>\n",
       "<table border=\"1\" class=\"dataframe\">\n",
       "  <thead>\n",
       "    <tr style=\"text-align: right;\">\n",
       "      <th></th>\n",
       "      <th>Store ID</th>\n",
       "      <th>Store_Area</th>\n",
       "      <th>Items_Available</th>\n",
       "      <th>Daily_Customer_Count</th>\n",
       "      <th>Store_Sales</th>\n",
       "    </tr>\n",
       "  </thead>\n",
       "  <tbody>\n",
       "    <tr>\n",
       "      <th>count</th>\n",
       "      <td>421.000000</td>\n",
       "      <td>421.000000</td>\n",
       "      <td>421.000000</td>\n",
       "      <td>421.000000</td>\n",
       "      <td>421.000000</td>\n",
       "    </tr>\n",
       "    <tr>\n",
       "      <th>mean</th>\n",
       "      <td>451.152019</td>\n",
       "      <td>1509.318290</td>\n",
       "      <td>1810.859857</td>\n",
       "      <td>782.684086</td>\n",
       "      <td>74430.593824</td>\n",
       "    </tr>\n",
       "    <tr>\n",
       "      <th>std</th>\n",
       "      <td>261.934390</td>\n",
       "      <td>252.674303</td>\n",
       "      <td>303.286980</td>\n",
       "      <td>266.388845</td>\n",
       "      <td>10082.518741</td>\n",
       "    </tr>\n",
       "    <tr>\n",
       "      <th>min</th>\n",
       "      <td>1.000000</td>\n",
       "      <td>854.000000</td>\n",
       "      <td>1018.000000</td>\n",
       "      <td>70.000000</td>\n",
       "      <td>60060.000000</td>\n",
       "    </tr>\n",
       "    <tr>\n",
       "      <th>25%</th>\n",
       "      <td>221.000000</td>\n",
       "      <td>1332.000000</td>\n",
       "      <td>1608.000000</td>\n",
       "      <td>600.000000</td>\n",
       "      <td>66070.000000</td>\n",
       "    </tr>\n",
       "    <tr>\n",
       "      <th>50%</th>\n",
       "      <td>449.000000</td>\n",
       "      <td>1495.000000</td>\n",
       "      <td>1793.000000</td>\n",
       "      <td>780.000000</td>\n",
       "      <td>72740.000000</td>\n",
       "    </tr>\n",
       "    <tr>\n",
       "      <th>75%</th>\n",
       "      <td>676.000000</td>\n",
       "      <td>1678.000000</td>\n",
       "      <td>2017.000000</td>\n",
       "      <td>980.000000</td>\n",
       "      <td>80780.000000</td>\n",
       "    </tr>\n",
       "    <tr>\n",
       "      <th>max</th>\n",
       "      <td>895.000000</td>\n",
       "      <td>2229.000000</td>\n",
       "      <td>2667.000000</td>\n",
       "      <td>1560.000000</td>\n",
       "      <td>116320.000000</td>\n",
       "    </tr>\n",
       "  </tbody>\n",
       "</table>\n",
       "</div>"
      ],
      "text/plain": [
       "        Store ID    Store_Area  Items_Available  Daily_Customer_Count  \\\n",
       "count  421.000000   421.000000       421.000000            421.000000   \n",
       "mean   451.152019  1509.318290      1810.859857            782.684086   \n",
       "std    261.934390   252.674303       303.286980            266.388845   \n",
       "min      1.000000   854.000000      1018.000000             70.000000   \n",
       "25%    221.000000  1332.000000      1608.000000            600.000000   \n",
       "50%    449.000000  1495.000000      1793.000000            780.000000   \n",
       "75%    676.000000  1678.000000      2017.000000            980.000000   \n",
       "max    895.000000  2229.000000      2667.000000           1560.000000   \n",
       "\n",
       "         Store_Sales  \n",
       "count     421.000000  \n",
       "mean    74430.593824  \n",
       "std     10082.518741  \n",
       "min     60060.000000  \n",
       "25%     66070.000000  \n",
       "50%     72740.000000  \n",
       "75%     80780.000000  \n",
       "max    116320.000000  "
      ]
     },
     "execution_count": 30,
     "metadata": {},
     "output_type": "execute_result"
    }
   ],
   "source": [
    "New_Store_Sales_Values.describe()"
   ]
  },
  {
   "cell_type": "code",
   "execution_count": 31,
   "id": "3dfee91c",
   "metadata": {},
   "outputs": [],
   "source": [
    "New_Store_Sales_Values_Describe = New_Store_Sales_Values.describe()"
   ]
  },
  {
   "cell_type": "code",
   "execution_count": 32,
   "id": "84998dee",
   "metadata": {},
   "outputs": [],
   "source": [
    "New_Store_Sales_Values_Describe.to_csv('New_Store_Sales_Values_Describe')"
   ]
  },
  {
   "cell_type": "code",
   "execution_count": 33,
   "id": "c88746df",
   "metadata": {},
   "outputs": [],
   "source": [
    "New_Items_Available = df.loc[df['Items_Available'] >= 1800]"
   ]
  },
  {
   "cell_type": "code",
   "execution_count": 34,
   "id": "3f813d76",
   "metadata": {},
   "outputs": [
    {
     "name": "stdout",
     "output_type": "stream",
     "text": [
      "     Store ID   Store_Area  Items_Available  Daily_Customer_Count  Store_Sales\n",
      "0            1        1659             1961                   530        66490\n",
      "4            5        1770             2111                   450        46620\n",
      "6            7        1542             1858                  1030        72240\n",
      "11          12        1751             2098                   720        57620\n",
      "12          13        1746             2064                  1050        60470\n",
      "..         ...         ...              ...                   ...          ...\n",
      "882        883        1819             2187                   590        47920\n",
      "886        887        1655             1986                  1150        77430\n",
      "889        890        1539             1829                   650        46580\n",
      "890        891        1549             1851                  1220        70620\n",
      "891        892        1582             1910                  1080        66390\n",
      "\n",
      "[414 rows x 5 columns]\n"
     ]
    }
   ],
   "source": [
    "print(New_Items_Available)"
   ]
  },
  {
   "cell_type": "code",
   "execution_count": 35,
   "id": "4e7ccd54",
   "metadata": {},
   "outputs": [],
   "source": [
    "New_Items_Available_Values = New_Items_Available.sort_values('Items_Available')"
   ]
  },
  {
   "cell_type": "code",
   "execution_count": 36,
   "id": "e9d52ae4",
   "metadata": {},
   "outputs": [],
   "source": [
    "New_Items_Available_Values.to_csv('New_Items_Available.csv')"
   ]
  },
  {
   "cell_type": "code",
   "execution_count": 37,
   "id": "ad2ed70e",
   "metadata": {},
   "outputs": [
    {
     "data": {
      "text/html": [
       "<div>\n",
       "<style scoped>\n",
       "    .dataframe tbody tr th:only-of-type {\n",
       "        vertical-align: middle;\n",
       "    }\n",
       "\n",
       "    .dataframe tbody tr th {\n",
       "        vertical-align: top;\n",
       "    }\n",
       "\n",
       "    .dataframe thead th {\n",
       "        text-align: right;\n",
       "    }\n",
       "</style>\n",
       "<table border=\"1\" class=\"dataframe\">\n",
       "  <thead>\n",
       "    <tr style=\"text-align: right;\">\n",
       "      <th></th>\n",
       "      <th>Store ID</th>\n",
       "      <th>Store_Area</th>\n",
       "      <th>Items_Available</th>\n",
       "      <th>Daily_Customer_Count</th>\n",
       "      <th>Store_Sales</th>\n",
       "    </tr>\n",
       "  </thead>\n",
       "  <tbody>\n",
       "    <tr>\n",
       "      <th>count</th>\n",
       "      <td>414.000000</td>\n",
       "      <td>414.000000</td>\n",
       "      <td>414.000000</td>\n",
       "      <td>414.000000</td>\n",
       "      <td>414.000000</td>\n",
       "    </tr>\n",
       "    <tr>\n",
       "      <th>mean</th>\n",
       "      <td>439.181159</td>\n",
       "      <td>1701.265700</td>\n",
       "      <td>2040.828502</td>\n",
       "      <td>778.091787</td>\n",
       "      <td>60643.429952</td>\n",
       "    </tr>\n",
       "    <tr>\n",
       "      <th>std</th>\n",
       "      <td>257.503057</td>\n",
       "      <td>148.272121</td>\n",
       "      <td>177.833592</td>\n",
       "      <td>265.037767</td>\n",
       "      <td>17135.415256</td>\n",
       "    </tr>\n",
       "    <tr>\n",
       "      <th>min</th>\n",
       "      <td>1.000000</td>\n",
       "      <td>1487.000000</td>\n",
       "      <td>1800.000000</td>\n",
       "      <td>70.000000</td>\n",
       "      <td>17670.000000</td>\n",
       "    </tr>\n",
       "    <tr>\n",
       "      <th>25%</th>\n",
       "      <td>212.250000</td>\n",
       "      <td>1578.250000</td>\n",
       "      <td>1895.250000</td>\n",
       "      <td>590.000000</td>\n",
       "      <td>47962.500000</td>\n",
       "    </tr>\n",
       "    <tr>\n",
       "      <th>50%</th>\n",
       "      <td>440.500000</td>\n",
       "      <td>1667.000000</td>\n",
       "      <td>2008.500000</td>\n",
       "      <td>760.000000</td>\n",
       "      <td>60205.000000</td>\n",
       "    </tr>\n",
       "    <tr>\n",
       "      <th>75%</th>\n",
       "      <td>653.750000</td>\n",
       "      <td>1797.750000</td>\n",
       "      <td>2156.250000</td>\n",
       "      <td>960.000000</td>\n",
       "      <td>73497.500000</td>\n",
       "    </tr>\n",
       "    <tr>\n",
       "      <th>max</th>\n",
       "      <td>892.000000</td>\n",
       "      <td>2229.000000</td>\n",
       "      <td>2667.000000</td>\n",
       "      <td>1530.000000</td>\n",
       "      <td>116320.000000</td>\n",
       "    </tr>\n",
       "  </tbody>\n",
       "</table>\n",
       "</div>"
      ],
      "text/plain": [
       "        Store ID    Store_Area  Items_Available  Daily_Customer_Count  \\\n",
       "count  414.000000   414.000000       414.000000            414.000000   \n",
       "mean   439.181159  1701.265700      2040.828502            778.091787   \n",
       "std    257.503057   148.272121       177.833592            265.037767   \n",
       "min      1.000000  1487.000000      1800.000000             70.000000   \n",
       "25%    212.250000  1578.250000      1895.250000            590.000000   \n",
       "50%    440.500000  1667.000000      2008.500000            760.000000   \n",
       "75%    653.750000  1797.750000      2156.250000            960.000000   \n",
       "max    892.000000  2229.000000      2667.000000           1530.000000   \n",
       "\n",
       "         Store_Sales  \n",
       "count     414.000000  \n",
       "mean    60643.429952  \n",
       "std     17135.415256  \n",
       "min     17670.000000  \n",
       "25%     47962.500000  \n",
       "50%     60205.000000  \n",
       "75%     73497.500000  \n",
       "max    116320.000000  "
      ]
     },
     "execution_count": 37,
     "metadata": {},
     "output_type": "execute_result"
    }
   ],
   "source": [
    "New_Items_Available_Values.describe()"
   ]
  },
  {
   "cell_type": "code",
   "execution_count": 38,
   "id": "4c9675e0",
   "metadata": {},
   "outputs": [],
   "source": [
    "New_Items_Available_Values_Describe = New_Items_Available_Values.describe()"
   ]
  },
  {
   "cell_type": "code",
   "execution_count": 39,
   "id": "19900510",
   "metadata": {},
   "outputs": [],
   "source": [
    "New_Items_Available_Values_Describe.to_csv('New_Items_Available_Values_Describe')"
   ]
  },
  {
   "cell_type": "code",
   "execution_count": 46,
   "id": "0abddbb8",
   "metadata": {},
   "outputs": [
    {
     "name": "stdout",
     "output_type": "stream",
     "text": [
      "matplotlib version 3.5.1\n"
     ]
    }
   ],
   "source": [
    "%matplotlib inline \n",
    "\n",
    "import matplotlib as mpl\n",
    "import matplotlib.pyplot as plt\n",
    "\n",
    "from matplotlib import pyplot as plt\n",
    "\n",
    "mpl.style.use('ggplot')\n",
    "\n",
    "print ('matplotlib version', mpl.__version__)"
   ]
  },
  {
   "cell_type": "code",
   "execution_count": 62,
   "id": "6dca7bfa",
   "metadata": {},
   "outputs": [
    {
     "data": {
      "image/png": "[encoded data removed]",
      "text/plain": [
       "<Figure size 576x432 with 1 Axes>"
      ]
     },
     "metadata": {},
     "output_type": "display_data"
    }
   ],
   "source": [
    "New_Items_Available_Values_fig = New_Items_Available_Values.plot(kind='box', figsize =(8,6))\n",
    "\n",
    "plt.title('Comparison when Items Available is above mean')\n",
    "plt.ylabel('# of x-values')\n",
    "\n",
    "New_Items_Available_Values_fig.savefig = (\"Comparison when items available is above mean.png\")\n"
   ]
  },
  {
   "cell_type": "code",
   "execution_count": 61,
   "id": "20f95b73",
   "metadata": {},
   "outputs": [
    {
     "name": "stdout",
     "output_type": "stream",
     "text": [
      "Saved figure!\n"
     ]
    }
   ],
   "source": [
    "New_Items_Available_Values_fig.savefig = (\"Comparison when items available is above mean.png\")\n",
    "\n",
    "print (\"Saved figure!\")"
   ]
  },
  {
   "cell_type": "code",
   "execution_count": null,
   "id": "cd7b4a0f",
   "metadata": {},
   "outputs": [],
   "source": []
  }
 ],
 "metadata": {
  "kernelspec": {
   "display_name": "Python 3 (ipykernel)",
   "language": "python",
   "name": "python3"
  },
  "language_info": {
   "codemirror_mode": {
    "name": "ipython",
    "version": 3
   },
   "file_extension": ".py",
   "mimetype": "text/x-python",
   "name": "python",
   "nbconvert_exporter": "python",
   "pygments_lexer": "ipython3",
   "version": "3.9.12"
  }
 },
 "nbformat": 4,
 "nbformat_minor": 5
}
